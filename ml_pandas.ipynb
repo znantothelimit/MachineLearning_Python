{
 "cells": [
  {
   "cell_type": "code",
   "execution_count": null,
   "id": "13d5ddc3-c272-46b7-b421-0e17fa7c534e",
   "metadata": {},
   "outputs": [],
   "source": [
    "import matplotlib.image as mpimg\n",
    "import matplotlib.pyplot as plt\n",
    "\n",
    "img = mpimg.imread('./drive/MyDrive/myData.png')\n",
    "plt.imshow(img)"
   ]
  },
  {
   "cell_type": "code",
   "execution_count": 2,
   "id": "8fb7d3d1-ffb3-4eab-8834-e8b3e856086f",
   "metadata": {},
   "outputs": [
    {
     "name": "stdout",
     "output_type": "stream",
     "text": [
      "케케\n"
     ]
    }
   ],
   "source": [
    "print(\"케케\")"
   ]
  },
  {
   "cell_type": "code",
   "execution_count": 6,
   "id": "75ce04ea-5a76-4629-8b0f-1fcd0da67f3c",
   "metadata": {},
   "outputs": [
    {
     "data": {
      "text/plain": [
       "array([False, False,  True,  True,  True])"
      ]
     },
     "execution_count": 6,
     "metadata": {},
     "output_type": "execute_result"
    }
   ],
   "source": [
    "ages = np.array([18,19,25,30,28])\n",
    "y = ages>20\n",
    "y"
   ]
  },
  {
   "cell_type": "code",
   "execution_count": 7,
   "id": "bae2541a-9c78-445c-a493-a5fe2fd73d56",
   "metadata": {},
   "outputs": [
    {
     "data": {
      "text/plain": [
       "array([25, 30, 28])"
      ]
     },
     "execution_count": 7,
     "metadata": {},
     "output_type": "execute_result"
    }
   ],
   "source": [
    "ages[ages>20]"
   ]
  },
  {
   "cell_type": "code",
   "execution_count": 8,
   "id": "6af4fb91-a1bf-4a5e-aac9-2d983c14c910",
   "metadata": {},
   "outputs": [
    {
     "data": {
      "text/plain": [
       "array([[False, False, False],\n",
       "       [False, False,  True],\n",
       "       [ True,  True,  True]])"
      ]
     },
     "execution_count": 8,
     "metadata": {},
     "output_type": "execute_result"
    }
   ],
   "source": [
    "np_array = np.array([[1,2,3],[4,5,6],[7,8,9,]])\n",
    "np_array > 5"
   ]
  },
  {
   "cell_type": "code",
   "execution_count": 9,
   "id": "630cfcdb-e543-4355-9807-de425a9e9724",
   "metadata": {},
   "outputs": [
    {
     "data": {
      "text/plain": [
       "array([6, 7, 8, 9])"
      ]
     },
     "execution_count": 9,
     "metadata": {},
     "output_type": "execute_result"
    }
   ],
   "source": [
    "np_array[np_array>5]"
   ]
  },
  {
   "cell_type": "code",
   "execution_count": 10,
   "id": "8c8dd616-0ddd-4cfc-aa3d-f0fb6a967750",
   "metadata": {},
   "outputs": [
    {
     "data": {
      "text/plain": [
       "array([[False,  True, False],\n",
       "       [ True, False,  True],\n",
       "       [False,  True, False]])"
      ]
     },
     "execution_count": 10,
     "metadata": {},
     "output_type": "execute_result"
    }
   ],
   "source": [
    "np_array % 2 == 0"
   ]
  },
  {
   "cell_type": "code",
   "execution_count": 11,
   "id": "03415306-0d34-4ee7-8411-b40e7f9eda89",
   "metadata": {},
   "outputs": [
    {
     "data": {
      "text/plain": [
       "array([2, 4, 6, 8])"
      ]
     },
     "execution_count": 11,
     "metadata": {},
     "output_type": "execute_result"
    }
   ],
   "source": [
    "np_array[np_array%2 ==0]"
   ]
  },
  {
   "cell_type": "code",
   "execution_count": 15,
   "id": "9b69ff67-82b4-4787-a958-2216a1640eac",
   "metadata": {},
   "outputs": [
    {
     "data": {
      "text/plain": [
       "0    1.0\n",
       "1    3.0\n",
       "2    NaN\n",
       "3    4.0\n",
       "dtype: float64"
      ]
     },
     "execution_count": 15,
     "metadata": {},
     "output_type": "execute_result"
    }
   ],
   "source": [
    "import numpy as np\n",
    "import pandas as pd\n",
    "series = pd.Series([1,3,np.nan,4])\n",
    "series"
   ]
  },
  {
   "cell_type": "code",
   "execution_count": null,
   "id": "34178d72-aaf6-45fe-9b6e-c7609b7956bb",
   "metadata": {},
   "outputs": [],
   "source": []
  },
  {
   "cell_type": "markdown",
   "id": "f600e937-57d0-44a3-b4a5-4c1752a7cd5b",
   "metadata": {},
   "source": []
  },
  {
   "cell_type": "raw",
   "id": "1cb03b2f-bce2-4f94-922c-45f106932158",
   "metadata": {},
   "source": []
  },
  {
   "cell_type": "code",
   "execution_count": null,
   "id": "208dbf30-3aee-4060-b63b-055532e6c70a",
   "metadata": {},
   "outputs": [],
   "source": []
  },
  {
   "cell_type": "code",
   "execution_count": 20,
   "id": "c29ab277-5560-4c44-ba1a-20f6f536c568",
   "metadata": {},
   "outputs": [
    {
     "name": "stdout",
     "output_type": "stream",
     "text": [
      "0             Kurt Cobain\n",
      "1         Matthew Bellamy\n",
      "2          James Hetfield\n",
      "3           Dave Mustaine\n",
      "4    Billie Joe Armstrong\n",
      "5                     허진환\n",
      "dtype: object 0      Nirvana\n",
      "1         MUSE\n",
      "2    Metallica\n",
      "3    Metallica\n",
      "4     GreenDay\n",
      "5           케케\n",
      "dtype: object 0    19\n",
      "1    23\n",
      "2    22\n",
      "3    19\n",
      "4    16\n",
      "5    25\n",
      "dtype: int64 0     고교\n",
      "1     대학\n",
      "2     초졸\n",
      "3     중졸\n",
      "4     학식\n",
      "5    성결대\n",
      "dtype: object 0    3.50\n",
      "1    4.23\n",
      "2    4.25\n",
      "3    4.37\n",
      "4    3.80\n",
      "5    4.50\n",
      "dtype: float64\n"
     ]
    }
   ],
   "source": [
    "import numpy as np\n",
    "import pandas as pd\n",
    "name_series = pd.Series(['Kurt Cobain', 'Matthew Bellamy', 'James Hetfield', \n",
    "                         'Dave Mustaine', 'Billie Joe Armstrong', '허진환'])\n",
    "age_series = pd.Series([27,,22,19,16,25])\n",
    "school_series = pd.Series(['고교', '대학', '초졸', \n",
    "                           '중졸', '학식', '성결대'])\n",
    "grade_series = pd.Series([3.5, 4.23, 4.25, 4.37, 3.8, 4.5])\n",
    "band_series = pd.Series(['Nirvana', 'MUSE', 'Metallica', 'Metallica', 'GreenDay', '케케'])\n",
    "print(name_series, band_series, age_series, school_series, grade_series)"
   ]
  },
  {
   "cell_type": "code",
   "execution_count": 21,
   "id": "1630a982-ed03-427b-8589-3173e2474fdd",
   "metadata": {},
   "outputs": [
    {
     "data": {
      "text/plain": [
       "1    23\n",
       "2    22\n",
       "5    25\n",
       "dtype: int64"
      ]
     },
     "execution_count": 21,
     "metadata": {},
     "output_type": "execute_result"
    }
   ],
   "source": [
    "age_series[age_series>20]"
   ]
  },
  {
   "cell_type": "code",
   "execution_count": 22,
   "id": "297a1740-9e38-45c5-bbbf-13cc3d3b90f9",
   "metadata": {},
   "outputs": [
    {
     "data": {
      "text/plain": [
       "0    False\n",
       "1    False\n",
       "2     True\n",
       "3    False\n",
       "4     True\n",
       "5    False\n",
       "dtype: bool"
      ]
     },
     "execution_count": 22,
     "metadata": {},
     "output_type": "execute_result"
    }
   ],
   "source": [
    "age_series %2 ==0"
   ]
  },
  {
   "cell_type": "code",
   "execution_count": 24,
   "id": "fb671694-c030-40b3-82fb-aa2afc3d0b73",
   "metadata": {},
   "outputs": [
    {
     "name": "stdout",
     "output_type": "stream",
     "text": [
      "                     이름  나이         밴드   학교    평점\n",
      "0           Kurt Cobain  19    Nirvana   고교  3.50\n",
      "1       Matthew Bellamy  23       MUSE   대학  4.23\n",
      "2        James Hetfield  22  Metallica   초졸  4.25\n",
      "3         Dave Mustaine  19  Metallica   중졸  4.37\n",
      "4  Billie Joe Armstrong  16   GreenDay   학식  3.80\n",
      "5                   허진환  25         케케  성결대  4.50\n"
     ]
    }
   ],
   "source": [
    "df = pd.DataFrame({'이름': name_series, '나이': age_series, '밴드' : band_series,\n",
    "                   '학교' : school_series, '평점' : grade_series})\n",
    "print(df)"
   ]
  },
  {
   "cell_type": "code",
   "execution_count": 27,
   "id": "1d5f91c5-bc04-4144-90af-1c2b00e77676",
   "metadata": {},
   "outputs": [],
   "source": [
    "age_series = age_series + 10"
   ]
  },
  {
   "cell_type": "code",
   "execution_count": 28,
   "id": "ddc8db46-b6ea-4ba3-a9bb-5fda8dd8afe7",
   "metadata": {},
   "outputs": [
    {
     "name": "stdout",
     "output_type": "stream",
     "text": [
      "                     이름  나이         밴드   학교    평점\n",
      "0           Kurt Cobain  19    Nirvana   고교  3.50\n",
      "1       Matthew Bellamy  23       MUSE   대학  4.23\n",
      "2        James Hetfield  22  Metallica   초졸  4.25\n",
      "3         Dave Mustaine  19  Metallica   중졸  4.37\n",
      "4  Billie Joe Armstrong  16   GreenDay   학식  3.80\n",
      "5                   허진환  25         케케  성결대  4.50\n"
     ]
    }
   ],
   "source": [
    "print(df)"
   ]
  },
  {
   "cell_type": "code",
   "execution_count": 29,
   "id": "cd1bf628-8adf-421d-a788-2175b6810399",
   "metadata": {},
   "outputs": [
    {
     "name": "stdout",
     "output_type": "stream",
     "text": [
      "0    39\n",
      "1    43\n",
      "2    42\n",
      "3    39\n",
      "4    36\n",
      "5    45\n",
      "dtype: int64\n"
     ]
    }
   ],
   "source": [
    "print(age_series)"
   ]
  },
  {
   "cell_type": "code",
   "execution_count": 30,
   "id": "af0b9176-ffe6-42dd-a3df-2c68417e5a78",
   "metadata": {},
   "outputs": [
    {
     "name": "stdout",
     "output_type": "stream",
     "text": [
      "                     이름  나이         밴드   학교    평점\n",
      "0           Kurt Cobain  39    Nirvana   고교  3.50\n",
      "1       Matthew Bellamy  43       MUSE   대학  4.23\n",
      "2        James Hetfield  42  Metallica   초졸  4.25\n",
      "3         Dave Mustaine  39  Metallica   중졸  4.37\n",
      "4  Billie Joe Armstrong  36   GreenDay   학식  3.80\n",
      "5                   허진환  45         케케  성결대  4.50\n"
     ]
    }
   ],
   "source": [
    "df = pd.DataFrame({'이름': name_series, '나이': age_series, '밴드' : band_series,\n",
    "                   '학교' : school_series, '평점' : grade_series})\n",
    "print(df)"
   ]
  },
  {
   "cell_type": "code",
   "execution_count": 31,
   "id": "c3adb5c0-6967-4f8b-882f-9359e7235bf5",
   "metadata": {},
   "outputs": [],
   "source": [
    "age_series[3:] = age_series[3:]-20"
   ]
  },
  {
   "cell_type": "code",
   "execution_count": 32,
   "id": "a08e4ce4-dc2d-4ba3-b13e-eb999f90800c",
   "metadata": {},
   "outputs": [
    {
     "name": "stdout",
     "output_type": "stream",
     "text": [
      "                     이름  나이         밴드   학교    평점\n",
      "0           Kurt Cobain  39    Nirvana   고교  3.50\n",
      "1       Matthew Bellamy  43       MUSE   대학  4.23\n",
      "2        James Hetfield  42  Metallica   초졸  4.25\n",
      "3         Dave Mustaine  19  Metallica   중졸  4.37\n",
      "4  Billie Joe Armstrong  16   GreenDay   학식  3.80\n",
      "5                   허진환  25         케케  성결대  4.50\n"
     ]
    }
   ],
   "source": [
    "df = pd.DataFrame({'이름': name_series, '나이': age_series, '밴드' : band_series,\n",
    "                   '학교' : school_series, '평점' : grade_series})\n",
    "print(df)"
   ]
  },
  {
   "cell_type": "code",
   "execution_count": 33,
   "id": "1a3cb12d-755d-4753-97d2-8525ef3a326e",
   "metadata": {},
   "outputs": [],
   "source": [
    "import pandas as pd\n",
    "\n",
    "path = 'https://github.com/dknife/ML/raw/main/data/'\n",
    "file = path + 'vehicle_prod.csv'\n",
    "df = pd.read_csv(file)"
   ]
  },
  {
   "cell_type": "code",
   "execution_count": 34,
   "id": "9c03ecf4-eeb2-4102-a916-4b343b7bd068",
   "metadata": {},
   "outputs": [
    {
     "name": "stdout",
     "output_type": "stream",
     "text": [
      "  Unnamed: 0   2007   2008   2009   2010   2011\n",
      "0      China   7.71   7.95  11.96  15.84  16.33\n",
      "1         EU  19.02  17.71  15.00  16.70  17.48\n",
      "2         US  10.47   8.45   5.58   7.60   8.40\n",
      "3      Japan  10.87  10.83   7.55   9.09   7.88\n",
      "4      Korea   4.04   3.78   3.45   4.20   4.62\n",
      "5     Mexico   2.01   2.05   1.50   2.25   2.54\n"
     ]
    }
   ],
   "source": [
    "print(df)"
   ]
  },
  {
   "cell_type": "code",
   "execution_count": 36,
   "id": "b7fd6e82-31cd-4833-9f8d-61cc139d865f",
   "metadata": {},
   "outputs": [
    {
     "name": "stdout",
     "output_type": "stream",
     "text": [
      "            평균기온  최대풍속  평균풍속\n",
      "일시                          \n",
      "2010-08-01  28.7   8.3   3.4\n",
      "2010-08-02  25.2   8.7   3.8\n",
      "2010-08-03  22.1   6.3   2.9\n",
      "weather 데이터의 shape : (3653, 3)\n"
     ]
    }
   ],
   "source": [
    "import pandas as pd\n",
    "\n",
    "path = 'https://github.com/dknife/ML/raw/main/data/'\n",
    "weather_file = path + 'weather.csv'\n",
    "\n",
    "weather = pd.read_csv(weather_file, index_col=0, encoding = 'CP949')\n",
    "print(weather.head(3))\n",
    "print('weather 데이터의 shape :', weather.shape)"
   ]
  },
  {
   "cell_type": "code",
   "execution_count": 37,
   "id": "ea0eec38-d5c5-48fe-8f0f-6151d1491795",
   "metadata": {},
   "outputs": [
    {
     "name": "stdout",
     "output_type": "stream",
     "text": [
      "              평균기온         최대풍속         평균풍속\n",
      "count  3653.000000  3649.000000  3647.000000\n",
      "mean     12.942102     7.911099     3.936441\n",
      "std       8.538507     3.029862     1.888473\n",
      "min      -9.000000     2.000000     0.200000\n",
      "25%       5.400000     5.700000     2.500000\n",
      "50%      13.800000     7.600000     3.600000\n",
      "75%      20.100000     9.700000     5.000000\n",
      "max      31.300000    26.000000    14.900000\n"
     ]
    }
   ],
   "source": [
    "print(weather.describe())"
   ]
  },
  {
   "cell_type": "code",
   "execution_count": 38,
   "id": "88314676-330b-49c9-8e9b-6e8e2b72c68b",
   "metadata": {},
   "outputs": [
    {
     "data": {
      "text/plain": [
       "평균기온    3653\n",
       "최대풍속    3649\n",
       "평균풍속    3647\n",
       "dtype: int64"
      ]
     },
     "execution_count": 38,
     "metadata": {},
     "output_type": "execute_result"
    }
   ],
   "source": [
    "weather.count()"
   ]
  },
  {
   "cell_type": "code",
   "execution_count": 41,
   "id": "89cc0f4b-a57c-495c-98d8-68461ef6ca99",
   "metadata": {},
   "outputs": [
    {
     "ename": "AttributeError",
     "evalue": "module 'pandas' has no attribute 'series'",
     "output_type": "error",
     "traceback": [
      "\u001b[1;31m---------------------------------------------------------------------------\u001b[0m",
      "\u001b[1;31mAttributeError\u001b[0m                            Traceback (most recent call last)",
      "\u001b[1;32m~\\AppData\\Local\\Temp\\ipykernel_3944\\129178359.py\u001b[0m in \u001b[0;36m<module>\u001b[1;34m\u001b[0m\n\u001b[1;32m----> 1\u001b[1;33m \u001b[0mhorse_series\u001b[0m \u001b[1;33m=\u001b[0m \u001b[0mpd\u001b[0m\u001b[1;33m.\u001b[0m\u001b[0mseries\u001b[0m\u001b[1;33m(\u001b[0m\u001b[1;33m[\u001b[0m\u001b[1;36m130\u001b[0m\u001b[1;33m,\u001b[0m \u001b[1;36m250\u001b[0m\u001b[1;33m,\u001b[0m \u001b[1;36m190\u001b[0m\u001b[1;33m,\u001b[0m \u001b[1;36m300\u001b[0m\u001b[1;33m,\u001b[0m \u001b[1;36m210\u001b[0m\u001b[1;33m,\u001b[0m \u001b[1;36m220\u001b[0m\u001b[1;33m,\u001b[0m \u001b[1;36m170\u001b[0m\u001b[1;33m]\u001b[0m\u001b[1;33m)\u001b[0m\u001b[1;33m\u001b[0m\u001b[1;33m\u001b[0m\u001b[0m\n\u001b[0m\u001b[0;32m      2\u001b[0m \u001b[0mweight_series\u001b[0m \u001b[1;33m=\u001b[0m \u001b[0mpd\u001b[0m\u001b[1;33m.\u001b[0m\u001b[0mseries\u001b[0m\u001b[1;33m(\u001b[0m\u001b[1;33m[\u001b[0m\u001b[1;36m1900\u001b[0m\u001b[1;33m,\u001b[0m\u001b[1;36m2600\u001b[0m\u001b[1;33m,\u001b[0m\u001b[1;36m2200\u001b[0m\u001b[1;33m,\u001b[0m\u001b[1;36m2900\u001b[0m\u001b[1;33m,\u001b[0m\u001b[1;36m2400\u001b[0m\u001b[1;33m,\u001b[0m\u001b[1;36m2300\u001b[0m\u001b[1;33m,\u001b[0m\u001b[1;36m2200\u001b[0m\u001b[1;33m]\u001b[0m\u001b[1;33m)\u001b[0m\u001b[1;33m\u001b[0m\u001b[1;33m\u001b[0m\u001b[0m\n\u001b[0;32m      3\u001b[0m \u001b[0meffi_series\u001b[0m \u001b[1;33m=\u001b[0m \u001b[0mpd\u001b[0m\u001b[1;33m.\u001b[0m\u001b[0mseries\u001b[0m\u001b[1;33m(\u001b[0m\u001b[1;33m[\u001b[0m\u001b[1;36m16.3\u001b[0m\u001b[1;33m,\u001b[0m\u001b[1;36m102\u001b[0m\u001b[1;33m,\u001b[0m\u001b[1;36m11.1\u001b[0m\u001b[1;33m,\u001b[0m\u001b[1;36m7.1\u001b[0m\u001b[1;33m,\u001b[0m\u001b[1;36m12.1\u001b[0m\u001b[1;33m,\u001b[0m\u001b[1;36m13.2\u001b[0m\u001b[1;33m,\u001b[0m\u001b[1;36m14.2\u001b[0m\u001b[1;33m]\u001b[0m\u001b[1;33m)\u001b[0m\u001b[1;33m\u001b[0m\u001b[1;33m\u001b[0m\u001b[0m\n\u001b[0;32m      4\u001b[0m \u001b[0mdf_ex3_2\u001b[0m \u001b[1;33m=\u001b[0m \u001b[0mpd\u001b[0m\u001b[1;33m.\u001b[0m\u001b[0mDataframe\u001b[0m\u001b[1;33m(\u001b[0m\u001b[1;33m{\u001b[0m\u001b[1;34m'마력'\u001b[0m\u001b[1;33m:\u001b[0m \u001b[0mhorse_series\u001b[0m\u001b[1;33m,\u001b[0m \u001b[1;34m'총중량'\u001b[0m\u001b[1;33m:\u001b[0m \u001b[0mweight_series\u001b[0m\u001b[1;33m,\u001b[0m \u001b[1;34m'연비'\u001b[0m \u001b[1;33m:\u001b[0m \u001b[0meffi_series\u001b[0m\u001b[1;33m}\u001b[0m\u001b[1;33m)\u001b[0m\u001b[1;33m\u001b[0m\u001b[1;33m\u001b[0m\u001b[0m\n",
      "\u001b[1;32m~\\anaconda3\\lib\\site-packages\\pandas\\__init__.py\u001b[0m in \u001b[0;36m__getattr__\u001b[1;34m(name)\u001b[0m\n\u001b[0;32m    259\u001b[0m         \u001b[1;32mreturn\u001b[0m \u001b[0m_SparseArray\u001b[0m\u001b[1;33m\u001b[0m\u001b[1;33m\u001b[0m\u001b[0m\n\u001b[0;32m    260\u001b[0m \u001b[1;33m\u001b[0m\u001b[0m\n\u001b[1;32m--> 261\u001b[1;33m     \u001b[1;32mraise\u001b[0m \u001b[0mAttributeError\u001b[0m\u001b[1;33m(\u001b[0m\u001b[1;34mf\"module 'pandas' has no attribute '{name}'\"\u001b[0m\u001b[1;33m)\u001b[0m\u001b[1;33m\u001b[0m\u001b[1;33m\u001b[0m\u001b[0m\n\u001b[0m\u001b[0;32m    262\u001b[0m \u001b[1;33m\u001b[0m\u001b[0m\n\u001b[0;32m    263\u001b[0m \u001b[1;33m\u001b[0m\u001b[0m\n",
      "\u001b[1;31mAttributeError\u001b[0m: module 'pandas' has no attribute 'series'"
     ]
    }
   ],
   "source": [
    "horse_series = pd.series([130, 250, 190, 300, 210, 220, 170])\n",
    "weight_series = pd.series([1900,2600,2200,2900,2400,2300,2200])\n",
    "effi_series = pd.series([16.3,102,11.1,7.1,12.1,13.2,14.2])\n",
    "df_ex3_2 = pd.Dataframe({'마력': horse_series, '총중량': weight_series, '연비' : effi_series})"
   ]
  },
  {
   "cell_type": "code",
   "execution_count": null,
   "id": "ab770078-314b-4990-8a15-05aeb1b34b3a",
   "metadata": {},
   "outputs": [],
   "source": []
  }
 ],
 "metadata": {
  "kernelspec": {
   "display_name": "Python 3 (ipykernel)",
   "language": "python",
   "name": "python3"
  },
  "language_info": {
   "codemirror_mode": {
    "name": "ipython",
    "version": 3
   },
   "file_extension": ".py",
   "mimetype": "text/x-python",
   "name": "python",
   "nbconvert_exporter": "python",
   "pygments_lexer": "ipython3",
   "version": "3.9.13"
  }
 },
 "nbformat": 4,
 "nbformat_minor": 5
}
